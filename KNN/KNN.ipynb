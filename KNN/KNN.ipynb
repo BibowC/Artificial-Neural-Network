{
 "cells": [
  {
   "cell_type": "code",
   "execution_count": 1,
   "metadata": {},
   "outputs": [],
   "source": [
    "#KNN Regression \n",
    "\n",
    "import pandas as pd\n",
    "import plotly.graph_objs as go\n",
    "import plotly.offline as pyo\n",
    "import numpy as np\n",
    "import plotly.io\n",
    "from sklearn.utils import shuffle\n",
    "#import data, X = inputs, Y = outputs \n",
    "df = pd.read_excel('ANN_TRAIN_TEST_RAMON_T40_AIR_WATER.xlsx')\n",
    "df = shuffle(df)#embaralha os dados\n",
    "\n",
    "X = df.iloc[:,1:7].values\n",
    "Y = df.iloc[:, [12,13]].values\n",
    "\n",
    "#normalize data\n",
    "from sklearn.preprocessing import StandardScaler\n",
    "scalerx = StandardScaler()\n",
    "scalery = StandardScaler()\n",
    "X_scaled = scalerx.fit_transform(X)\n",
    "Y_scaled = scalery.fit_transform(Y)"
   ]
  },
  {
   "cell_type": "code",
   "execution_count": 10,
   "metadata": {},
   "outputs": [],
   "source": [
    "# aCreating K-folds n applying knn regression\n",
    "\n",
    "from sklearn.model_selection import KFold\n",
    "kf = KFold(n_splits = 10)\n",
    "from sklearn.metrics import r2_score, mean_squared_error\n",
    "resultados = []\n",
    "fold  = 0\n",
    "for train, test in kf.split(X_scaled):\n",
    "    fold+=1\n",
    "\n",
    "    Xtrain = X_scaled[train]\n",
    "    Ytrain = Y_scaled[train]\n",
    "\n",
    "  \n",
    "    #gridsearchcv aplicar no xtrain ytrain\n",
    "    Ytest = Y_scaled[test]\n",
    "    Xtest = X_scaled[test]\n",
    "\n",
    "    \n",
    "    from sklearn.neighbors import KNeighborsRegressor\n",
    "    knn = KNeighborsRegressor(n_neighbors= 5, weights= 'uniform', metric='minkowski', p=2)\n",
    "    knn.fit(Xtrain, Ytrain) #training the data\n",
    "\n",
    "    Xtest_original = scalerx.inverse_transform(Xtest)\n",
    "    Ytest_original = scalery.inverse_transform(Ytest)\n",
    "    Xtrain_original = scalerx.inverse_transform(Xtrain)\n",
    "    Ytrain_original = scalery.inverse_transform(Ytrain)\n",
    "\n",
    "    Qpred = knn.predict(Xtest)\n",
    "    Qpred_inverse = scalery.inverse_transform(Qpred)\n",
    "\n",
    "\n",
    "    rmse = mean_squared_error(Ytest, Qpred, squared = False)\n",
    "    r2 = r2_score(Ytest, Qpred)\n",
    "    resultados.append((fold, rmse, r2, Xtest_original, Qpred_inverse))\n",
    "\n",
    "    #plotando todas combinações\n",
    "    trace_Xtrain = go.Scatter(x=Xtrain_original[:, 0], y=Ytrain_original[:, 0], mode='markers', name='Dados de Treino')\n",
    "    trace_Xtest = go.Scatter(x=Xtest_original[:, 0], y=Qpred_inverse[:, 0], mode='markers', name='Dados de Teste')\n",
    "\n",
    "# Criar layout\n",
    "    layout = go.Layout(title='Gráfico Para Fold = {}'.format(fold),\n",
    "                   xaxis={'title': 'Vazão mássica do ar'},\n",
    "                   yaxis={'title': 'Taxa de Troca Térmica'})\n",
    "\n",
    "    # Criar figura e plotar\n",
    "    fig = go.Figure(data=[trace_Xtrain, trace_Xtest], layout=layout)\n",
    "    pyo.plot(fig, filename='grafico_fold_{}.html'.format(fold))\n"
   ]
  },
  {
   "cell_type": "code",
   "execution_count": 8,
   "metadata": {},
   "outputs": [
    {
     "name": "stdout",
     "output_type": "stream",
     "text": [
      "[ 0.16992466 -0.04834865 -0.85979655 -0.48976395  0.65085424 -0.41579479]\n"
     ]
    }
   ],
   "source": [
    "print(Xtest[0])"
   ]
  },
  {
   "cell_type": "code",
   "execution_count": 8,
   "metadata": {},
   "outputs": [
    {
     "name": "stdout",
     "output_type": "stream",
     "text": [
      "FOLD1 - RMSE = 0.042286401729023884, R2 = 0.9981200586760246\n",
      "FOLD2 - RMSE = 0.042172234995054625, R2 = 0.9982571551047154\n",
      "FOLD3 - RMSE = 0.04416660206262056, R2 = 0.9981220385482474\n",
      "FOLD4 - RMSE = 0.04542473440101388, R2 = 0.9978071709016623\n",
      "FOLD5 - RMSE = 0.04863599626257263, R2 = 0.9976562318868738\n",
      "FOLD6 - RMSE = 0.04352132766097408, R2 = 0.9982456086743318\n",
      "FOLD7 - RMSE = 0.041625947322461165, R2 = 0.9982536832822052\n",
      "FOLD8 - RMSE = 0.04247693163307617, R2 = 0.9981305954670442\n",
      "FOLD9 - RMSE = 0.04839451423669744, R2 = 0.9975965493881767\n",
      "FOLD10 - RMSE = 0.042721667645736656, R2 = 0.9980384674514952\n"
     ]
    }
   ],
   "source": [
    "for result in resultados:\n",
    "    print(f\"FOLD{result[0]} - RMSE = {result[1]}, R2 = {result[2]}\")\n",
    "    "
   ]
  }
 ],
 "metadata": {
  "kernelspec": {
   "display_name": "base",
   "language": "python",
   "name": "python3"
  },
  "language_info": {
   "codemirror_mode": {
    "name": "ipython",
    "version": 3
   },
   "file_extension": ".py",
   "mimetype": "text/x-python",
   "name": "python",
   "nbconvert_exporter": "python",
   "pygments_lexer": "ipython3",
   "version": "3.11.7"
  }
 },
 "nbformat": 4,
 "nbformat_minor": 2
}
