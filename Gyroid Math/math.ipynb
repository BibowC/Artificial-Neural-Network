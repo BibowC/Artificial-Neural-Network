{
 "cells": [
  {
   "cell_type": "code",
   "execution_count": 1,
   "metadata": {},
   "outputs": [
    {
     "name": "stdout",
     "output_type": "stream",
     "text": [
      "18\n"
     ]
    }
   ],
   "source": [
    "import math\n",
    "import numpy as np\n",
    "\n",
    "def Dh(epsi, Ssurf):\n",
    "    Dh = (4*epsi)/Ssurf\n",
    "    return Dh\n",
    "\n",
    "def Reh(Dh,usf,rho,mu,epsi):\n",
    "    Reh = (Dh*usf*rho)/(mu*epsi)\n",
    "    return Reh"
   ]
  },
  {
   "cell_type": "code",
   "execution_count": null,
   "metadata": {},
   "outputs": [],
   "source": [
    "vf = 1\n",
    "afs = 1\n",
    "Dh1 = (4*vf)/afs\n",
    "print(Dh1)"
   ]
  },
  {
   "cell_type": "code",
   "execution_count": null,
   "metadata": {},
   "outputs": [],
   "source": [
    "epsi = 1\n",
    "sfs = 1\n",
    "Dh2 = (4*epsi)/sfs\n",
    "print(Dh2)"
   ]
  }
 ],
 "metadata": {
  "kernelspec": {
   "display_name": "base",
   "language": "python",
   "name": "python3"
  },
  "language_info": {
   "codemirror_mode": {
    "name": "ipython",
    "version": 3
   },
   "file_extension": ".py",
   "mimetype": "text/x-python",
   "name": "python",
   "nbconvert_exporter": "python",
   "pygments_lexer": "ipython3",
   "version": "3.11.7"
  }
 },
 "nbformat": 4,
 "nbformat_minor": 2
}
