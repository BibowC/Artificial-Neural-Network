{
 "cells": [
  {
   "cell_type": "code",
   "execution_count": 24,
   "metadata": {},
   "outputs": [
    {
     "name": "stdout",
     "output_type": "stream",
     "text": [
      "Diâmetro 1: (1.0, 0.5)\n"
     ]
    }
   ],
   "source": [
    "#HEAT EXCHANGER EQUATIONS (GYROID)\n",
    "def Dh(epsi,ssa): #Define the function that returns the value of hydraulic diameter (Reynolds et. al)\n",
    "    ''' \n",
    "    epsi = porosity (fluid volume (Vf) / total volume (Vt))\n",
    "    ssa = specific surface area (Wetted area for Fluid 1,2 or 3 / )\n",
    "    '''\n",
    "    Dh1 = (4*epsi)/ssa \n",
    "    return Dh1 \n",
    "\n",
    "def Reynolds(rho,V,Dh,mu):\n",
    "    '''\n",
    "    rho = fluid density\n",
    "    V = fluid velocity (can be obtained with m' = rho*V*A)\n",
    "    Dh = Hydraulic diameter (can be obtained with the expression from Reynolds et. al)\n",
    "    mu = dynamic viscosity\n",
    "    '''\n",
    "    Reh = (rho*V*Dh)/mu\n",
    "    return Reh\n",
    "\n",
    "def Dtlmtd(tc_in, th_in, tc_out, th_out):\n",
    "    '''\n",
    "    tc = temp.cold\n",
    "    th = temp.hot\n",
    "    '''\n",
    "    Dt_lmtd = ( (tc_in - th_out) - (tc_out - th_in) ) / math.log(((tc_in - th_out))/(tc_out - th_in))\n",
    "    return Dt_lmtd\n",
    "\n",
    "def htcoef(Q, A, Dt_lmtd):\n",
    "    '''\n",
    "    Q = Heat transfer Rate\n",
    "    A = Effective heat transfer area \n",
    "    Dt_lmtd = log mean temp difference\n",
    "    '''\n",
    "    U = Q/(A*Dt_lmtd)\n",
    "    return U\n",
    "\n",
    "def j(Nu, Re, Pr):\n",
    "    '''\n",
    "    j = Colburn Factor\n",
    "    Nu = Nusselt \n",
    "    Re = Reynolds\n",
    "    Pr = Prandt\n",
    "    '''\n",
    "    j = Nu / (Re * (Pr**(1/3)))\n",
    "    return j\n",
    "\n",
    "def f(dP, Dh, rho, u, L):\n",
    "    '''\n",
    "    dP = pressure drop\n",
    "    Dh = Hydraulic diameter\n",
    "    rho = fluid density\n",
    "    u = fluid velocity\n",
    "    L = channel length\n",
    "    '''\n",
    "    f = (dP * Dh) / (2*rho*(u**2)*L)\n",
    "    return f\n",
    "\n",
    "\n"
   ]
  },
  {
   "cell_type": "code",
   "execution_count": null,
   "metadata": {},
   "outputs": [],
   "source": []
  }
 ],
 "metadata": {
  "kernelspec": {
   "display_name": "base",
   "language": "python",
   "name": "python3"
  },
  "language_info": {
   "codemirror_mode": {
    "name": "ipython",
    "version": 3
   },
   "file_extension": ".py",
   "mimetype": "text/x-python",
   "name": "python",
   "nbconvert_exporter": "python",
   "pygments_lexer": "ipython3",
   "version": "3.11.4"
  }
 },
 "nbformat": 4,
 "nbformat_minor": 2
}
