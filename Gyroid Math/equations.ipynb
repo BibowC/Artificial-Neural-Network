{
 "cells": [
  {
   "cell_type": "code",
   "execution_count": 96,
   "metadata": {},
   "outputs": [
    {
     "name": "stdout",
     "output_type": "stream",
     "text": [
      "0.22610982271997726\n"
     ]
    }
   ],
   "source": [
    "import numpy as np\n",
    "import CoolProp.CoolProp as CP\n",
    "import math\n",
    "import plotly.offline as pyo\n",
    "import plotly.graph_objects as go\n",
    "\n",
    "#GEOMETRY FROM NTOPOLOGY\n",
    "vthex = 195461.4765 #mm³ total volume of the hex core\n",
    "vtf2 = 125578.5438 #mm³ total volume of the mid core\n",
    "vtf3 = 83879.8214 #mm³ total volume of the outer core\n",
    "vf1 = 44195.7598 #mm³ total volume of the fluid1\n",
    "vf2 = 27184.1405 #mm³ total volume of the fluid2\n",
    "vf3 = 14342.9852 #mm³ total volume of the fluid3\n",
    "Lf1f2 = 100/1000 #m\n",
    "Lf3 = 80/1000 #m\n",
    "\n",
    "f1sa = 94009.046 #mm² f1 wetted area\n",
    "f2sa = 50021.1927 #mm² f2 wetted area\n",
    "f3sa = 36110.0301 #mm² f3 wetted area\n",
    "\n",
    "#porosity\n",
    "epsif1 = vf1/vthex\n",
    "epsif2 = vf2/vtf2\n",
    "epsif3 = vf3/vtf3\n",
    "\n",
    "print(epsif1)"
   ]
  },
  {
   "cell_type": "code",
   "execution_count": 97,
   "metadata": {},
   "outputs": [
    {
     "name": "stdout",
     "output_type": "stream",
     "text": [
      "441957.598\n"
     ]
    }
   ],
   "source": [
    "\n",
    "#air props\n",
    "muair = CP.PropsSI('V', 'T', 300, 'P', 101325, 'Air')  # air dynamic viscosity\n",
    "rhoair = CP.PropsSI('D', 'T', 300, 'P', 101325, 'Air')  # air density\n",
    "\n",
    "# water props\n",
    "muw = CP.PropsSI('V', 'T', 300, 'P', 101325, 'Water')  # water dyn visc\n",
    "rhow = CP.PropsSI('D', 'T', 300, 'P', 101325, 'Water')  # water density\n",
    "\n",
    "mair = np.linspace(0.05, 0.1, 10) #kg/s\n",
    "mw1 = np.linspace(0.01, 0.1, 10) #kg/s\n",
    "mw2 = np.linspace(0.01, 0.1, 10) #kg/s\n",
    "\n",
    "Acs_fluid1 = vf1 / Lf1f2\n",
    "Acs_fluid2 = vf2 / Lf1f2\n",
    "Acs_fluid3 = vf3 / Lf3\n",
    "\n",
    "Var = mair / (Acs_fluid1*rhoair)\n",
    "Vw1 = mw1 / (Acs_fluid2*rhow)\n",
    "Vw2 = mw2 / (Acs_fluid3*rhow)\n",
    "\n",
    "def Dh(vf, afs): #OBTIDO NO ARTIGO QUE PROF KLEBER ENVIOU (NÃO AUTORIZADO COMPARTILHAMENTO)\n",
    "    '''\n",
    "    vf = representa o volume de fluído\n",
    "    afs = área de interface solido/fluido ( verificar a definição no artigo nao publicado, ambas equações são iguais)\n",
    "    '''\n",
    "    Dh = (4*vf)/afs\n",
    "    return Dh\n",
    "#hydraulic diameter Dh\n",
    "Dhf1 = Dh(vf1, f1sa)\n",
    "Dhf2 = Dh(vf2, f2sa)\n",
    "Dhf3 = Dh(vf3, f3sa)\n",
    "\n",
    "def Re(m,Dh,mu,Across): #reynolds\n",
    "    Re = (m*Dh)/(Across*mu)\n",
    "    return Re\n",
    "#reynolds calculation Re(m,Dh,mu,Across)\n",
    "Ref1 = Re(mair, Dhf1, Acs_fluid1,muair)\n",
    "Ref2 = Re(mw1, Dhf2, Acs_fluid2, muw)\n",
    "Ref3 = Re(mw2, Dhf3, Acs_fluid3, muw)\n",
    "\n",
    "print(Acs_fluid1)"
   ]
  },
  {
   "cell_type": "code",
   "execution_count": 98,
   "metadata": {},
   "outputs": [],
   "source": [
    "\n",
    "#------------- f CORRELATIONS --------------------#\n",
    "#F CORRELATION_1\n",
    "def fcorrelation1(Re): # kaixin Yan et al. 2024 correlation\n",
    "    f = 2.577*(np.power(Re, -0.095)) \n",
    "    return f\n",
    "f1air = fcorrelation1(Ref1)\n",
    "f1w1 = fcorrelation1(Ref2)\n",
    "f1w2 = fcorrelation1(Ref3)\n",
    "\n",
    "#F CORRELATION_2\n",
    "def fcorrelation2(Re): #kaixin Yan et al #GYROID AS PRINTED\n",
    "    f = 2.756*(np.power(Re, -0.166))  \n",
    "    return f\n",
    "f2air = fcorrelation2(Ref1)\n",
    "f2w1 = fcorrelation2(Ref2)\n",
    "f2w2 = fcorrelation2(Ref3)\n",
    "\n",
    "#F CORRELATION_3\n",
    "def fcorrelation3(Re): # kaixin Yan et al #GYROID AS POLISHED \n",
    "    f = 2.344*(np.power(Re, -0.081)) \n",
    "    return f\n",
    "f3air = fcorrelation3(Ref1)\n",
    "f3w1 = fcorrelation3(Ref2)\n",
    "f3w2 = fcorrelation3(Ref3)\n",
    "\n",
    "\n",
    "\n",
    "#--------------------PRESSURE DROP------------------------#\n",
    "def dP(f,L,epsi,Dh,rho,V): #REYNOLDS et al.\n",
    "    dP = (f*L*2*rho*(np.power(V, 2))) / (np.power(epsi, 2)*Dh) \n",
    "    return dP\n",
    "\n",
    "# pressuredrop for fcorrelation1\n",
    "Dp_fcor1_f1 = dP(Lf1f2, epsif1, Dhf1, rhoair, Var, f1air)\n",
    "Dp_fcor1_f2 = dP(Lf1f2, epsif2, Dhf2, rhow, Vw1, f1w1)\n",
    "Dp_fcor1_f3 = dP(Lf3, epsif3, Dhf3, rhow, Vw2, f1w2)\n",
    "\n",
    "# pressuredrop for fcorrelation2\n",
    "Dp_fcor2_f1 = dP(Lf1f2, epsif1, Dhf1, rhoair, Var, f2air)\n",
    "Dp_fcor2_f2 = dP(Lf1f2, epsif2, Dhf2, rhow, Vw1, f2w1)\n",
    "Dp_fcor2_f3 = dP(Lf3, epsif3, Dhf3, rhow, Vw2, f2w2)\n",
    "\n",
    "# pressuredrop for fcorrelation3\n",
    "Dp_fcor3_f1 = dP(Lf1f2, epsif1, Dhf1, rhoair, Var, f3air)\n",
    "Dp_fcor3_f2 = dP(Lf1f2, epsif2, Dhf2, rhow, Vw1, f3w1)\n",
    "Dp_fcor3_f3 = dP(Lf3, epsif3, Dhf3, rhow, Vw2, f3w2)"
   ]
  },
  {
   "cell_type": "code",
   "execution_count": 99,
   "metadata": {},
   "outputs": [
    {
     "name": "stdout",
     "output_type": "stream",
     "text": [
      "[5.78562483 5.6853149  5.59607258 5.51582448 5.44301998 5.37647054\n",
      " 5.31524608 5.2586057  5.20595013 5.15678813]\n"
     ]
    }
   ],
   "source": [
    "# PLOT dP/Re for fcorrelation1\n",
    "trace1 = go.Scatter(x=Ref1, y=Dp_fcor1_f1, mode='markers', name='dP_Air_fcorrelation1', marker=dict(color='blue'))\n",
    "trace2 = go.Scatter(x=Ref1, y=Dp_fcor2_f1, mode='markers', name='dP_Air_fcorrelation2', marker=dict(color='red'))\n",
    "trace3 = go.Scatter(x=Ref1, y=Dp_fcor3_f1, mode='markers', name='dP_Air_fcorrelation3', marker=dict(color='green'))\n",
    "\n",
    "layout = go.Layout(title='Dp/Re', xaxis=dict(title='Reynolds Number'), yaxis=dict(title='Pressure Drop (dP)'))\n",
    "\n",
    "fig = go.Figure(data=[trace1, trace2, trace3], layout=layout)\n",
    "pyo.plot(fig)\n",
    "\n",
    "print(f2air)"
   ]
  },
  {
   "cell_type": "code",
   "execution_count": 100,
   "metadata": {},
   "outputs": [
    {
     "name": "stdout",
     "output_type": "stream",
     "text": [
      "[3.93941914 3.90018519 3.86503049 3.83321352 3.80417608 3.77748776\n",
      " 3.75280985 3.72987117 3.70845131 3.68836881]\n"
     ]
    }
   ],
   "source": [
    "\n",
    "# PLOT dP/Re for fcorrelation1\n",
    "trace1 = go.Scatter(x=Ref2, y=Dp_fcor1_f2, mode='markers', name='dP_WaterF2_fcorrelation1', marker=dict(color='blue'))\n",
    "trace2 = go.Scatter(x=Ref2, y=Dp_fcor2_f2, mode='markers', name='dP_WaterF2_fcorrelation2', marker=dict(color='red'))\n",
    "trace3 = go.Scatter(x=Ref2, y=Dp_fcor3_f2, mode='markers', name='dP_WaterF2_fcorrelation3', marker=dict(color='green'))\n",
    "\n",
    "layout = go.Layout(title='Dp/Re', xaxis=dict(title='Reynolds Number'), yaxis=dict(title='Pressure Drop (dP)'))\n",
    "\n",
    "fig = go.Figure(data=[trace1, trace2, trace3], layout=layout)\n",
    "pyo.plot(fig)\n",
    "\n",
    "print(f1air)"
   ]
  },
  {
   "cell_type": "code",
   "execution_count": 101,
   "metadata": {},
   "outputs": [
    {
     "name": "stdout",
     "output_type": "stream",
     "text": [
      "[3.93941914 3.90018519 3.86503049 3.83321352 3.80417608 3.77748776\n",
      " 3.75280985 3.72987117 3.70845131 3.68836881]\n"
     ]
    }
   ],
   "source": [
    "# PLOT dP/Re for fcorrelation1\n",
    "trace1 = go.Scatter(x=Ref3, y=Dp_fcor1_f3, mode='markers', name='dP_WaterF3_fcorrelation1', marker=dict(color='blue'))\n",
    "trace2 = go.Scatter(x=Ref3, y=Dp_fcor2_f3, mode='markers', name='dP_WaterF3_fcorrelation2', marker=dict(color='red'))\n",
    "trace3 = go.Scatter(x=Ref3, y=Dp_fcor3_f3, mode='markers', name='dP_WaterF3_fcorrelation3', marker=dict(color='green'))\n",
    "\n",
    "layout = go.Layout(title='Dp/Re', xaxis=dict(title='Reynolds Number'), yaxis=dict(title='Pressure Drop (dP)'))\n",
    "\n",
    "fig = go.Figure(data=[trace1, trace2, trace3], layout=layout)\n",
    "pyo.plot(fig)\n",
    "\n",
    "print(f1air)"
   ]
  }
 ],
 "metadata": {
  "kernelspec": {
   "display_name": "base",
   "language": "python",
   "name": "python3"
  },
  "language_info": {
   "codemirror_mode": {
    "name": "ipython",
    "version": 3
   },
   "file_extension": ".py",
   "mimetype": "text/x-python",
   "name": "python",
   "nbconvert_exporter": "python",
   "pygments_lexer": "ipython3",
   "version": "3.11.7"
  }
 },
 "nbformat": 4,
 "nbformat_minor": 2
}
