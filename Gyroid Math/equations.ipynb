{
 "cells": [
  {
   "cell_type": "code",
   "execution_count": 42,
   "metadata": {},
   "outputs": [],
   "source": [
    "import numpy as np\n",
    "import CoolProp.CoolProp as CP\n",
    "import math\n",
    "import plotly.offline as pyo\n",
    "import plotly.graph_objects as go\n",
    "\n",
    "#GEOMETRY FROM NTOPOLOGY\n",
    "vf1 = 2606\n",
    "vt = 8000\n",
    "asf1 = 6686\n",
    "L=20/1000\n",
    "\n",
    "epsi = vf1/8000\n",
    "#porosity\n",
    "#epsif1 = vf1/vthex\n"
   ]
  },
  {
   "cell_type": "code",
   "execution_count": 50,
   "metadata": {},
   "outputs": [
    {
     "name": "stdout",
     "output_type": "stream",
     "text": [
      "1.5590786718516303\n",
      "6686\n",
      "[ 1257.92350058  8106.61811487 14955.31272915 21804.00734343\n",
      " 28652.70195772 35501.396572   42350.09118628 49198.78580057\n",
      " 56047.48041485 62896.17502913]\n"
     ]
    }
   ],
   "source": [
    "\n",
    "#air props\n",
    "muair = CP.PropsSI('V', 'T', 300, 'P', 101325, 'Air')  # air dynamic viscosity\n",
    "rhoair = CP.PropsSI('D', 'T', 300, 'P', 101325, 'Air')  # air density\n",
    "\n",
    "# water props\n",
    "muw = CP.PropsSI('V', 'T', 300, 'P', 101325, 'Water')  # water dyn visc\n",
    "rhow = CP.PropsSI('D', 'T', 300, 'P', 101325, 'Water')  # water density\n",
    "\n",
    "mteste = np.linspace(0.05, 0.13, 10)\n",
    "\n",
    "mair = np.linspace(0.1, 5, 10) #kg/s\n",
    "mw1 = np.linspace(0.01, 0.1, 10) #kg/s\n",
    "mw2 = np.linspace(0.01, 0.1, 10) #kg/s\n",
    "\n",
    "\n",
    "\n",
    "\n",
    "\n",
    "def Dh(vf, afs): #OBTIDO NO ARTIGO QUE PROF KLEBER ENVIOU (NÃO AUTORIZADO COMPARTILHAMENTO)\n",
    "    '''\n",
    "    vf = representa o volume de fluído\n",
    "    afs = área de interface solido/fluido ( verificar a definição no artigo nao publicado, ambas equações são iguais)\n",
    "    '''\n",
    "    Dh = (4*vf)/afs\n",
    "    return Dh\n",
    "#hydraulic diameter Dh\n",
    "Dhf1 = Dh(vf1, asf1)\n",
    "print(Dhf1)\n",
    "print(asf1)\n",
    "\n",
    "\n",
    "def Re(m,Dh,mu,Across): #reynolds\n",
    "    Re = (m*Dh)/(Across*mu)\n",
    "    return Re\n",
    "#reynolds calculation Re(m,Dh,mu,Across)\n",
    "Ref1 = Re(mair, Dhf1/1e3, asf1/1e6,muw)\n",
    "print(Ref1)\n",
    "\n",
    "V = (muw*Ref1)/(rhow*(Dhf1/1000))\n",
    "\n"
   ]
  },
  {
   "cell_type": "code",
   "execution_count": 51,
   "metadata": {},
   "outputs": [],
   "source": [
    "\n",
    "#------------- f CORRELATIONS --------------------#\n",
    "#F CORRELATION_1\n",
    "def fcorrelation1(Re): # kaixin Yan et al. 2024 correlation\n",
    "    f = 2.577*(np.power(Re, -0.095)) \n",
    "    return f\n",
    "f1air = fcorrelation1(Ref1)\n",
    "#f1w1 = fcorrelation1(Ref2)\n",
    "#f1w2 = fcorrelation1(Ref3)\n",
    "\n",
    "#F CORRELATION_2\n",
    "def fcorrelation2(Re): #kaixin Yan et al #GYROID AS PRINTED\n",
    "    f = 2.756*(np.power(Re, -0.166))  \n",
    "    return f\n",
    "f2air = fcorrelation2(Ref1)\n",
    "#f2w1 = fcorrelation2(Ref2)\n",
    "#f2w2 = fcorrelation2(Ref3)\n",
    "\n",
    "#F CORRELATION_3\n",
    "def fcorrelation3(Re): # kaixin Yan et al #GYROID AS POLISHED \n",
    "    f = 2.344*(np.power(Re, -0.081)) \n",
    "    return f\n",
    "f3air = fcorrelation3(Ref1)\n",
    "#f3w1 = fcorrelation3(Ref2)\n",
    "#f3w2 = fcorrelation3(Ref3)\n",
    "\n",
    "\n",
    "\n",
    "#--------------------PRESSURE DROP------------------------#\n",
    "def dP(f,L,epsi,Dh,rho,V): #REYNOLDS et al.\n",
    "    dP = (f*L*2*rho*(np.power(V, 2))) / (np.power(epsi, 2)*Dh) \n",
    "    return dP\n",
    "\n",
    "# pressuredrop for fcorrelation1\n",
    "Dp_fcor1_f1 = dP(f1air, L, epsi,Dhf1/1000,rhow,V)\n",
    "#Dp_fcor1_f2 = dP(Lf1f2, epsif2, Dhf2, rhow, Vw1, f1w1)\n",
    "#Dp_fcor1_f3 = dP(Lf3, epsif3, Dhf3, rhow, Vw2, f1w2)\n",
    "\n",
    "# pressuredrop for fcorrelation2\n",
    "#Dp_fcor2_f1 = dP(Lf1f2, epsif1, Dhf1, rhoair, Var, f2air)\n",
    "#Dp_fcor2_f2 = dP(Lf1f2, epsif2, Dhf2, rhow, Vw1, f2w1)\n",
    "#Dp_fcor2_f3 = dP(Lf3, epsif3, Dhf3, rhow, Vw2, f2w2)\n",
    "\n",
    "# pressuredrop for fcorrelation3\n",
    "#Dp_fcor3_f1 = dP(Lf1f2, epsif1, Dhf1, rhoair, Var, f3air)\n",
    "#Dp_fcor3_f2 = dP(Lf1f2, epsif2, Dhf2, rhow, Vw1, f3w1)\n",
    "#Dp_fcor3_f3 = dP(Lf3, epsif3, Dhf3, rhow, Vw2, f3w2)"
   ]
  },
  {
   "cell_type": "code",
   "execution_count": 45,
   "metadata": {},
   "outputs": [
    {
     "name": "stdout",
     "output_type": "stream",
     "text": [
      "[1.59162592 1.16819734 1.05527962 0.9912577  0.94731435 0.91420346\n",
      " 0.88782176 0.86600256 0.84746797 0.83140376]\n"
     ]
    }
   ],
   "source": [
    "# PLOT dP/Re for fcorrelation1\n",
    "trace1 = go.Scatter(x=Ref1, y=Dp_fcor1_f1, mode='markers', name='dP_Air_fcorrelation1', marker=dict(color='blue'))\n",
    "#trace2 = go.Scatter(x=Ref1, y=Dp_fcor2_f1, mode='markers', name='dP_Air_fcorrelation2', marker=dict(color='red'))\n",
    "#trace3 = go.Scatter(x=Ref1, y=Dp_fcor3_f1, mode='markers', name='dP_Air_fcorrelation3', marker=dict(color='green'))\n",
    "\n",
    "layout = go.Layout(title='Dp/Re', xaxis=dict(title='Reynolds Number'), yaxis=dict(title='Pressure Drop (dP)'))\n",
    "\n",
    "fig = go.Figure(data=[trace1], layout=layout)\n",
    "pyo.plot(fig)\n",
    "\n",
    "print(f2air)"
   ]
  },
  {
   "cell_type": "code",
   "execution_count": 46,
   "metadata": {},
   "outputs": [
    {
     "ename": "NameError",
     "evalue": "name 'Ref2' is not defined",
     "output_type": "error",
     "traceback": [
      "\u001b[1;31m---------------------------------------------------------------------------\u001b[0m",
      "\u001b[1;31mNameError\u001b[0m                                 Traceback (most recent call last)",
      "Cell \u001b[1;32mIn[46], line 2\u001b[0m\n\u001b[0;32m      1\u001b[0m \u001b[38;5;66;03m# PLOT dP/Re for fcorrelation1\u001b[39;00m\n\u001b[1;32m----> 2\u001b[0m trace1 \u001b[38;5;241m=\u001b[39m go\u001b[38;5;241m.\u001b[39mScatter(x\u001b[38;5;241m=\u001b[39mRef2, y\u001b[38;5;241m=\u001b[39mDp_fcor1_f2, mode\u001b[38;5;241m=\u001b[39m\u001b[38;5;124m'\u001b[39m\u001b[38;5;124mmarkers\u001b[39m\u001b[38;5;124m'\u001b[39m, name\u001b[38;5;241m=\u001b[39m\u001b[38;5;124m'\u001b[39m\u001b[38;5;124mdP_WaterF2_fcorrelation1\u001b[39m\u001b[38;5;124m'\u001b[39m, marker\u001b[38;5;241m=\u001b[39m\u001b[38;5;28mdict\u001b[39m(color\u001b[38;5;241m=\u001b[39m\u001b[38;5;124m'\u001b[39m\u001b[38;5;124mblue\u001b[39m\u001b[38;5;124m'\u001b[39m))\n\u001b[0;32m      3\u001b[0m trace2 \u001b[38;5;241m=\u001b[39m go\u001b[38;5;241m.\u001b[39mScatter(x\u001b[38;5;241m=\u001b[39mRef2, y\u001b[38;5;241m=\u001b[39mDp_fcor2_f2, mode\u001b[38;5;241m=\u001b[39m\u001b[38;5;124m'\u001b[39m\u001b[38;5;124mmarkers\u001b[39m\u001b[38;5;124m'\u001b[39m, name\u001b[38;5;241m=\u001b[39m\u001b[38;5;124m'\u001b[39m\u001b[38;5;124mdP_WaterF2_fcorrelation2\u001b[39m\u001b[38;5;124m'\u001b[39m, marker\u001b[38;5;241m=\u001b[39m\u001b[38;5;28mdict\u001b[39m(color\u001b[38;5;241m=\u001b[39m\u001b[38;5;124m'\u001b[39m\u001b[38;5;124mred\u001b[39m\u001b[38;5;124m'\u001b[39m))\n\u001b[0;32m      4\u001b[0m trace3 \u001b[38;5;241m=\u001b[39m go\u001b[38;5;241m.\u001b[39mScatter(x\u001b[38;5;241m=\u001b[39mRef2, y\u001b[38;5;241m=\u001b[39mDp_fcor3_f2, mode\u001b[38;5;241m=\u001b[39m\u001b[38;5;124m'\u001b[39m\u001b[38;5;124mmarkers\u001b[39m\u001b[38;5;124m'\u001b[39m, name\u001b[38;5;241m=\u001b[39m\u001b[38;5;124m'\u001b[39m\u001b[38;5;124mdP_WaterF2_fcorrelation3\u001b[39m\u001b[38;5;124m'\u001b[39m, marker\u001b[38;5;241m=\u001b[39m\u001b[38;5;28mdict\u001b[39m(color\u001b[38;5;241m=\u001b[39m\u001b[38;5;124m'\u001b[39m\u001b[38;5;124mgreen\u001b[39m\u001b[38;5;124m'\u001b[39m))\n",
      "\u001b[1;31mNameError\u001b[0m: name 'Ref2' is not defined"
     ]
    }
   ],
   "source": [
    "\n",
    "# PLOT dP/Re for fcorrelation1\n",
    "trace1 = go.Scatter(x=Ref2, y=Dp_fcor1_f2, mode='markers', name='dP_WaterF2_fcorrelation1', marker=dict(color='blue'))\n",
    "trace2 = go.Scatter(x=Ref2, y=Dp_fcor2_f2, mode='markers', name='dP_WaterF2_fcorrelation2', marker=dict(color='red'))\n",
    "trace3 = go.Scatter(x=Ref2, y=Dp_fcor3_f2, mode='markers', name='dP_WaterF2_fcorrelation3', marker=dict(color='green'))\n",
    "\n",
    "layout = go.Layout(title='Dp/Re', xaxis=dict(title='Reynolds Number'), yaxis=dict(title='Pressure Drop (dP)'))\n",
    "\n",
    "fig = go.Figure(data=[trace1, trace2, trace3], layout=layout)\n",
    "pyo.plot(fig)\n",
    "\n",
    "print(f1air)"
   ]
  },
  {
   "cell_type": "code",
   "execution_count": null,
   "metadata": {},
   "outputs": [
    {
     "name": "stdout",
     "output_type": "stream",
     "text": [
      "[3.93941914 3.90018519 3.86503049 3.83321352 3.80417608 3.77748776\n",
      " 3.75280985 3.72987117 3.70845131 3.68836881]\n"
     ]
    }
   ],
   "source": [
    "# PLOT dP/Re for fcorrelation1\n",
    "trace1 = go.Scatter(x=Ref3, y=Dp_fcor1_f3, mode='markers', name='dP_WaterF3_fcorrelation1', marker=dict(color='blue'))\n",
    "trace2 = go.Scatter(x=Ref3, y=Dp_fcor2_f3, mode='markers', name='dP_WaterF3_fcorrelation2', marker=dict(color='red'))\n",
    "trace3 = go.Scatter(x=Ref3, y=Dp_fcor3_f3, mode='markers', name='dP_WaterF3_fcorrelation3', marker=dict(color='green'))\n",
    "\n",
    "layout = go.Layout(title='Dp/Re', xaxis=dict(title='Reynolds Number'), yaxis=dict(title='Pressure Drop (dP)'))\n",
    "\n",
    "fig = go.Figure(data=[trace1, trace2, trace3], layout=layout)\n",
    "pyo.plot(fig)\n",
    "\n",
    "print(f1air)"
   ]
  }
 ],
 "metadata": {
  "kernelspec": {
   "display_name": "base",
   "language": "python",
   "name": "python3"
  },
  "language_info": {
   "codemirror_mode": {
    "name": "ipython",
    "version": 3
   },
   "file_extension": ".py",
   "mimetype": "text/x-python",
   "name": "python",
   "nbconvert_exporter": "python",
   "pygments_lexer": "ipython3",
   "version": "3.11.7"
  }
 },
 "nbformat": 4,
 "nbformat_minor": 2
}
