{
 "cells": [
  {
   "cell_type": "code",
   "execution_count": 29,
   "metadata": {},
   "outputs": [],
   "source": [
    "import joblib\n",
    "import numpy as np\n",
    "\n",
    "# Carregar o modelo e os scalers\n",
    "model_filename = 'mlp_model.pkl'\n",
    "scalerx_filename = 'scaler_x.pkl'\n",
    "scalery_filename = 'scaler_y.pkl'\n",
    "\n",
    "loaded_model = joblib.load(model_filename)\n",
    "scalerx = joblib.load(scalerx_filename)\n",
    "scalery = joblib.load(scalery_filename)\n",
    "\n",
    "## valores para Reynolds e Stdp\n",
    "Re = np.linspace(1000, 8000, 100)  \n",
    "Stdp = np.linspace(0.2992, 0.4331, 100)  \n",
    "\n",
    "# Empacotar os valores de Re e Stdp para passar ao modelo\n",
    "X = np.array(list(zip(Re, Stdp)))\n",
    "\n",
    "# Escalar os dados\n",
    "X_scaled = scalerx.transform(X)\n",
    "\n",
    "# Fazer a previsão com o modelo\n",
    "f = loaded_model.predict(X_scaled).reshape(-1, 1)\n",
    "\n",
    "# Desescalar a previsão\n",
    "f_inverse = scalery.inverse_transform(f)"
   ]
  },
  {
   "cell_type": "code",
   "execution_count": null,
   "metadata": {},
   "outputs": [],
   "source": []
  },
  {
   "cell_type": "code",
   "execution_count": 31,
   "metadata": {},
   "outputs": [
    {
     "data": {
      "text/plain": [
       "'temp-plot.html'"
      ]
     },
     "execution_count": 31,
     "metadata": {},
     "output_type": "execute_result"
    }
   ],
   "source": [
    "import numpy as np\n",
    "import plotly.graph_objs as go\n",
    "import plotly.offline as pyo\n",
    "\n",
    "# Criar uma grade de Re e Stdp\n",
    "Re_grid, Stdp_grid = np.meshgrid(Re, Stdp)\n",
    "grid_points = np.c_[Re_grid.ravel(), Stdp_grid.ravel()]  # Criar um array com todas as combinações de Re e Stdp\n",
    "\n",
    "# Escalar os pontos da grade\n",
    "grid_points_scaled = scalerx.transform(grid_points)\n",
    "\n",
    "# Fazer previsões para cada ponto da grade\n",
    "f_grid_pred = loaded_model.predict(grid_points_scaled).reshape(-1, 1)\n",
    "\n",
    "# Desescalar as previsões\n",
    "f_pred_grid = scalery.inverse_transform(f_grid_pred)\n",
    "\n",
    "# Ajustar a forma de f_pred_grid para que corresponda à forma de Re_grid e Stdp_grid\n",
    "f_pred_grid = f_pred_grid.reshape(Re_grid.shape)\n",
    "\n",
    "# Criar o gráfico 3D para os resultados da ANN com contornos\n",
    "surface_ann = go.Surface(\n",
    "    x=Re_grid, y=Stdp_grid, z=f_pred_grid, \n",
    "    colorscale='Viridis',\n",
    "    name='Superfície ANN',\n",
    "    colorbar=dict(title='ANN f', len=0.5, x=0.9),\n",
    "    contours={\n",
    "        \"z\": {\n",
    "            \"show\": True,\n",
    "            \"start\": np.min(f_pred_grid),\n",
    "            \"end\": np.max(f_pred_grid),\n",
    "            \"size\": (np.max(f_pred_grid) - np.min(f_pred_grid)) / 20,  # Ajustar o espaçamento dos contornos\n",
    "            \"color\": \"black\",\n",
    "        }\n",
    "    }\n",
    ")\n",
    "\n",
    "# Definir o layout do gráfico\n",
    "layout = go.Layout(\n",
    "    title='Superfície de Resultados da ANN e da Fórmula com Valores Originais',\n",
    "    scene=dict(\n",
    "        xaxis=dict(title='Reynolds Number (Re)', backgroundcolor='white', gridcolor='lightgrey'),\n",
    "        yaxis=dict(title='Stdp', backgroundcolor='white', gridcolor='lightgrey'),\n",
    "        zaxis=dict(title='f', backgroundcolor='white', gridcolor='lightgrey'),\n",
    "        bgcolor='white'\n",
    "    ),\n",
    "    paper_bgcolor='white',\n",
    "    plot_bgcolor='white',\n",
    "    showlegend=True\n",
    ")\n",
    "\n",
    "# Criar a figura com ambas as superfícies e o scatter plot\n",
    "fig = go.Figure(data=[surface_ann], layout=layout)\n",
    "\n",
    "# Mostrar o gráfico\n",
    "pyo.plot(fig, auto_open=True)\n"
   ]
  }
 ],
 "metadata": {
  "kernelspec": {
   "display_name": "base",
   "language": "python",
   "name": "python3"
  },
  "language_info": {
   "codemirror_mode": {
    "name": "ipython",
    "version": 3
   },
   "file_extension": ".py",
   "mimetype": "text/x-python",
   "name": "python",
   "nbconvert_exporter": "python",
   "pygments_lexer": "ipython3",
   "version": "3.11.7"
  }
 },
 "nbformat": 4,
 "nbformat_minor": 2
}
