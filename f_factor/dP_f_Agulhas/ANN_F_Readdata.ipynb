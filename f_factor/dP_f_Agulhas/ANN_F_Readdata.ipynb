{
 "cells": [
  {
   "cell_type": "code",
   "execution_count": 1,
   "metadata": {},
   "outputs": [
    {
     "name": "stderr",
     "output_type": "stream",
     "text": [
      "c:\\Users\\Carlos\\anaconda3\\Lib\\site-packages\\sklearn\\base.py:376: InconsistentVersionWarning: Trying to unpickle estimator MLPRegressor from version 1.3.0 when using version 1.4.2. This might lead to breaking code or invalid results. Use at your own risk. For more info please refer to:\n",
      "https://scikit-learn.org/stable/model_persistence.html#security-maintainability-limitations\n",
      "  warnings.warn(\n",
      "c:\\Users\\Carlos\\anaconda3\\Lib\\site-packages\\sklearn\\base.py:376: InconsistentVersionWarning: Trying to unpickle estimator StandardScaler from version 1.3.0 when using version 1.4.2. This might lead to breaking code or invalid results. Use at your own risk. For more info please refer to:\n",
      "https://scikit-learn.org/stable/model_persistence.html#security-maintainability-limitations\n",
      "  warnings.warn(\n"
     ]
    }
   ],
   "source": [
    "import joblib\n",
    "import numpy as np\n",
    "\n",
    "# Carregar o modelo e os scalers\n",
    "model_filename = 'mlp_model.pkl'\n",
    "scalerx_filename = 'scaler_x.pkl'\n",
    "scalery_filename = 'scaler_y.pkl'\n",
    "\n",
    "loaded_model = joblib.load(model_filename)\n",
    "scalerx = joblib.load(scalerx_filename)\n",
    "scalery = joblib.load(scalery_filename)\n",
    "\n",
    "## valores para Reynolds e Stdp\n",
    "Re = np.linspace(1000, 8000, 100)  \n",
    "Stdp = np.linspace(0.2992, 0.4331, 100)  \n",
    "\n",
    "# Empacotar os valores de Re e Stdp para passar ao modelo\n",
    "X = np.array(list(zip(Re, Stdp)))\n",
    "\n",
    "# Escalar os dados\n",
    "X_scaled = scalerx.transform(X)\n",
    "\n",
    "# Fazer a previsão com o modelo\n",
    "f = loaded_model.predict(X_scaled).reshape(-1, 1)\n",
    "\n",
    "# Desescalar a previsão\n",
    "f_inverse = scalery.inverse_transform(f)"
   ]
  },
  {
   "cell_type": "code",
   "execution_count": null,
   "metadata": {},
   "outputs": [],
   "source": []
  },
  {
   "cell_type": "code",
   "execution_count": 3,
   "metadata": {},
   "outputs": [
    {
     "data": {
      "text/plain": [
       "'temp-plot.html'"
      ]
     },
     "execution_count": 3,
     "metadata": {},
     "output_type": "execute_result"
    }
   ],
   "source": [
    "import numpy as np\n",
    "import plotly.graph_objs as go\n",
    "import plotly.offline as pyo\n",
    "\n",
    "\n",
    "\n",
    "\n",
    "# Criar uma grade de Re e Stdp (Assumindo que Re e Stdp já estão definidos)\n",
    "Re_grid, Stdp_grid = np.meshgrid(Re, Stdp)\n",
    "\n",
    "# Escalar os pontos da grade\n",
    "grid_points = np.c_[Re_grid.ravel(), Stdp_grid.ravel()]\n",
    "grid_points_scaled = scalerx.transform(grid_points)\n",
    "\n",
    "# Fazer previsões para cada ponto da grade usando o modelo carregado\n",
    "f_grid_pred = loaded_model.predict(grid_points_scaled).reshape(-1, 1)\n",
    "\n",
    "# Desescalar as previsões\n",
    "f_pred_grid = scalery.inverse_transform(f_grid_pred)\n",
    "\n",
    "# Ajustar a forma de f_pred_grid para que corresponda à forma de Re_grid e Stdp_grid\n",
    "f_pred_grid = f_pred_grid.reshape(Re_grid.shape)\n",
    "\n",
    "# Criar a superfície com os resultados da ANN\n",
    "surface_ann = go.Surface(\n",
    "    x=Re_grid, y=Stdp_grid, z=f_pred_grid, \n",
    "    colorscale='Viridis',\n",
    "    name='Superfície ANN',\n",
    "    colorbar=dict(title='ANN f', len=0.5, x=0.9),\n",
    "    contours={\n",
    "        \"z\": {\n",
    "            \"show\": True,\n",
    "            \"start\": np.min(f_pred_grid),\n",
    "            \"end\": np.max(f_pred_grid),\n",
    "            \"size\": (np.max(f_pred_grid) - np.min(f_pred_grid)) / 20,  # Ajustar o espaçamento dos contornos\n",
    "            \"color\": \"black\",\n",
    "        }\n",
    "    }\n",
    ")\n",
    "\n",
    "# Definir o layout do gráfico\n",
    "layout = go.Layout(\n",
    "    title='Superfície de Resultados da ANN e da Fórmula',\n",
    "    scene=dict(\n",
    "        xaxis=dict(title='Reynolds Number (Re)', backgroundcolor='white', gridcolor='lightgrey'),\n",
    "        yaxis=dict(title='Stdp', backgroundcolor='white', gridcolor='lightgrey'),\n",
    "        zaxis=dict(title='f', backgroundcolor='white', gridcolor='lightgrey'),\n",
    "        bgcolor='white'\n",
    "    ),\n",
    "    paper_bgcolor='white',\n",
    "    plot_bgcolor='white',\n",
    "    showlegend=True\n",
    ")\n",
    "\n",
    "# Criar a figura com ambas as superfícies (ANN e fórmula)\n",
    "fig = go.Figure(data=[surface_ann], layout=layout)\n",
    "\n",
    "# Mostrar o gráfico\n",
    "pyo.plot(fig, auto_open=True)\n"
   ]
  }
 ],
 "metadata": {
  "kernelspec": {
   "display_name": "base",
   "language": "python",
   "name": "python3"
  },
  "language_info": {
   "codemirror_mode": {
    "name": "ipython",
    "version": 3
   },
   "file_extension": ".py",
   "mimetype": "text/x-python",
   "name": "python",
   "nbconvert_exporter": "python",
   "pygments_lexer": "ipython3",
   "version": "3.12.4"
  }
 },
 "nbformat": 4,
 "nbformat_minor": 2
}
