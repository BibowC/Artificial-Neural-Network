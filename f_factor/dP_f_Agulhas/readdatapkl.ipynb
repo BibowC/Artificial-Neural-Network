{
 "cells": [
  {
   "cell_type": "code",
   "execution_count": 1,
   "metadata": {},
   "outputs": [
    {
     "name": "stdout",
     "output_type": "stream",
     "text": [
      "Entrada 1: Reynolds = 1200.0, Porosidade = 0.3 -> Previsão Y = 0.6839\n",
      "Entrada 2: Reynolds = 3500.0, Porosidade = 0.6 -> Previsão Y = 0.7420\n"
     ]
    }
   ],
   "source": [
    "\n",
    "\n",
    "\n",
    "# 6. Mostrar os resultados\n",
    "for i, y in enumerate(Y_pred):\n",
    "    print(f\"Entrada {i+1}: Reynolds = {X_novo[i, 0]}, Porosidade = {X_novo[i, 1]} -> Previsão Y = {y[0]:.4f}\")\n"
   ]
  },
  {
   "cell_type": "code",
   "execution_count": 2,
   "metadata": {},
   "outputs": [
    {
     "data": {
      "text/plain": [
       "'temp-plot.html'"
      ]
     },
     "execution_count": 2,
     "metadata": {},
     "output_type": "execute_result"
    }
   ],
   "source": [
    "import numpy as np\n",
    "import plotly.graph_objs as go\n",
    "import plotly.offline as pyo\n",
    "import pandas as pd\n",
    "import joblib\n",
    "\n",
    "# 1. Carregar o modelo e os scalers\n",
    "mlp_model = joblib.load('mlp_model_14_12_2024_loocv.pkl')       # Modelo treinado\n",
    "scalerx = joblib.load('scalerx_mlp_model_14_12_2024loocv.pkl')  # Scaler de entrada\n",
    "scalery = joblib.load('scalery_mlp_model_14_12_2024loocv.pkl')  # Scaler de saída\n",
    "\n",
    "# 2. Definir os intervalos para Re e Stdp\n",
    "Re_vals = np.linspace(200, 8000, 100)  # Valores de Reynolds\n",
    "Stdp_vals = np.linspace(0.2992, 0.4331, 100)  # Valores de Stdp (Porosidade)\n",
    "\n",
    "# 3. Criar uma grade de Re e Stdp\n",
    "Re_grid, Stdp_grid = np.meshgrid(Re_vals, Stdp_vals)\n",
    "grid_points = np.c_[Re_grid.ravel(), Stdp_grid.ravel()]\n",
    "\n",
    "# 4. Previsão com a ANN nos pontos da grade\n",
    "f_pred_scaled = mlp_model.predict(scalerx.transform(grid_points))\n",
    "f_pred = scalery.inverse_transform(f_pred_scaled.reshape(-1, 1))\n",
    "f_pred_grid = f_pred.reshape(Re_grid.shape)\n",
    "\n",
    "# 5. Calcular a superfície usando a fórmula fornecida\n",
    "f_formula = (4.3059 / np.log(Re_grid + 3.1918)) + ((0.30649 / Stdp_grid) - 0.80937)\n",
    "\n",
    "# 6. Carregar dados originais de validação (exemplo: ANNDF)\n",
    "file_name = 'fxReynoldsV3.xlsx'\n",
    "ANNDF = pd.read_excel(file_name)\n",
    "\n",
    "# 7. Gerar o gráfico\n",
    "\n",
    "# Superfície da ANN\n",
    "surface_ann = go.Surface(\n",
    "    x=Re_grid, y=Stdp_grid, z=f_pred_grid, \n",
    "    colorscale='Viridis',\n",
    "    name='Superfície ANN',\n",
    "    colorbar=dict(title='ANN f', len=0.5, x=0.9)\n",
    ")\n",
    "\n",
    "# Superfície da Fórmula\n",
    "surface_formula = go.Surface(\n",
    "    x=Re_grid, y=Stdp_grid, z=f_formula, \n",
    "    colorscale='Plasma',\n",
    "    name='Superfície Fórmula',\n",
    "    opacity=0.7,\n",
    "    colorbar=dict(title='Fórmula f', len=0.5, x=1.05)\n",
    ")\n",
    "\n",
    "# Scatter plot dos valores originais\n",
    "scatter_original = go.Scatter3d(\n",
    "    x=ANNDF.iloc[:, 1],  # Reynolds\n",
    "    y=ANNDF.iloc[:, 3],  # Stdp\n",
    "    z=ANNDF.iloc[:, 2],  # f\n",
    "    mode='markers',\n",
    "    marker=dict(size=5, color='red'),\n",
    "    name='Dados Originais'\n",
    ")\n",
    "\n",
    "# Scatter plot de validação\n",
    "scatter_validation = go.Scatter3d(\n",
    "    x=grid_points[:, 0],  # Reynolds\n",
    "    y=grid_points[:, 1],  # Stdp\n",
    "    z=f_pred,             # Valores previstos\n",
    "    mode='markers',\n",
    "    marker=dict(size=4, color='blue', symbol='diamond'),\n",
    "    name='Validação ANN'\n",
    ")\n",
    "\n",
    "# Layout\n",
    "layout = go.Layout(\n",
    "    title='Superfície de Resultados da ANN, Fórmula e Dados Originais',\n",
    "    scene=dict(\n",
    "        xaxis=dict(title='Reynolds Number (Re)', backgroundcolor='white', gridcolor='lightgrey'),\n",
    "        yaxis=dict(title='Stdp', backgroundcolor='white', gridcolor='lightgrey'),\n",
    "        zaxis=dict(title='f', backgroundcolor='white', gridcolor='lightgrey')\n",
    "    ),\n",
    "    paper_bgcolor='white',\n",
    "    plot_bgcolor='white',\n",
    "    showlegend=True\n",
    ")\n",
    "\n",
    "# Criar a figura com ambas as superfícies e os dados\n",
    "fig = go.Figure(data=[surface_ann, surface_formula, scatter_original, scatter_validation], layout=layout)\n",
    "\n",
    "# Mostrar o gráfico\n",
    "pyo.plot(fig)\n"
   ]
  }
 ],
 "metadata": {
  "kernelspec": {
   "display_name": "base",
   "language": "python",
   "name": "python3"
  },
  "language_info": {
   "codemirror_mode": {
    "name": "ipython",
    "version": 3
   },
   "file_extension": ".py",
   "mimetype": "text/x-python",
   "name": "python",
   "nbconvert_exporter": "python",
   "pygments_lexer": "ipython3",
   "version": "3.11.7"
  }
 },
 "nbformat": 4,
 "nbformat_minor": 2
}
