{
 "cells": [
  {
   "cell_type": "code",
   "execution_count": 1,
   "metadata": {},
   "outputs": [],
   "source": [
    "import pandas as pd\n",
    "import numpy as np\n",
    "import plotly.graph_objs as go\n",
    "import plotly.offline as pyo \n",
    "import CoolProp.CoolProp as CP\n",
    "import tensorflow as tf\n",
    "from tensorflow.keras import regularizers\n",
    "import plotly.io\n",
    "from sklearn.utils import shuffle\n",
    "\n",
    "#FORMULAS DEF (VEL, REYNOLDS, F)\n",
    "\n",
    "def Reynolds2(mfr, dh, acs, mu):\n",
    "    Re = (mfr * dh) / (acs * mu)\n",
    "    return Re \n",
    "\n",
    "def Velocity(mfr, rho, acs):\n",
    "    Vel = (mfr) / (rho * acs)\n",
    "    return Vel\n",
    "\n",
    "def ffactor(dp, dh, L, rho, V):\n",
    "    f = (dp * dh) / (2*L*rho*(np.power(V,2)))\n",
    "    return f\n",
    "\n",
    "dfV3 = pd.read_excel('Dimensions.xlsx', sheet_name='V3')\n",
    "\n",
    "Vf_cs4V3 = dfV3.iloc[0,1]\n",
    "Vf_cs6V3 = dfV3.iloc[0,2]\n",
    "Vf_cs8V3 = dfV3.iloc[0,3]\n",
    "Vf_cs10V3 = dfV3.iloc[0,4]\n",
    "Vf_cs12V3 = dfV3.iloc[0,5]\n",
    "Vf_cs15V3 = dfV3.iloc[0,6]\n",
    "Afs_cs4V3 = dfV3.iloc[1,1]\n",
    "Afs_cs6V3 = dfV3.iloc[1,2]\n",
    "Afs_cs8V3 = dfV3.iloc[1,3]\n",
    "Afs_cs10V3 = dfV3.iloc[1,4]\n",
    "Afs_cs12V3 = dfV3.iloc[1,5]\n",
    "Afs_cs15V3 = dfV3.iloc[1,6]\n",
    "Acs_cs4V3 = dfV3.iloc[2,1]\n",
    "Acs_cs6V3 = dfV3.iloc[2,2]\n",
    "Acs_cs8V3 = dfV3.iloc[2,3]\n",
    "Acs_cs10V3 = dfV3.iloc[2,4]\n",
    "Acs_cs12V3 = dfV3.iloc[2,5]\n",
    "Acs_cs15V3 = dfV3.iloc[2,6]\n",
    "Dh_cs4V3 = dfV3.iloc[3,1]\n",
    "Dh_cs6V3 = dfV3.iloc[3,2]\n",
    "Dh_cs8V3 = dfV3.iloc[3,3]\n",
    "Dh_cs10V3 = dfV3.iloc[3,4]\n",
    "Dh_cs12V3 = dfV3.iloc[3,5]\n",
    "Dh_cs15V3 = dfV3.iloc[3,6]\n",
    "\n",
    "Lf = 120/1000\n",
    "\n",
    "# DEFINING REYNOLDS AND VELOCITY\n",
    "T = 300\n",
    "mu = CP.PropsSI('V', 'T', T, 'P', 101325, 'Water')\n",
    "rho = CP.PropsSI('D', 'T', 300, 'P', 101325, 'Water')\n",
    "\n",
    "Cs4 = pd.read_excel('V3inv2.xlsx', sheet_name= 'cs4')\n",
    "mfr_cs4_V3 = Cs4.iloc[:,9].values\n",
    "dP_cs4_V3 = Cs4.iloc[:,7].values * 100000\n",
    "dh_cs4_V3 = [Dh_cs4V3] * len(dP_cs4_V3)\n",
    "Re_Cs4_V3 = Reynolds2(mfr_cs4_V3, dh_cs4_V3, Acs_cs4V3, mu)\n",
    "Vel_Cs4_V3 = Velocity(mfr_cs4_V3, rho, Acs_cs4V3)\n",
    "f_Cs4_V3 = ffactor(dP_cs4_V3, dh_cs4_V3, Lf, rho, Vel_Cs4_V3)\n",
    "\n",
    "Cs6 = pd.read_excel('V3inv2.xlsx', sheet_name= 'cs6')\n",
    "mfr_cs6_V3 = Cs6.iloc[:,9].values\n",
    "dP_cs6_V3 = Cs6.iloc[:,7].values * 100000\n",
    "dh_cs6_V3 = [Dh_cs6V3] * len(dP_cs6_V3)\n",
    "Re_Cs6_V3 = Reynolds2(mfr_cs6_V3, dh_cs6_V3, Acs_cs6V3, mu)\n",
    "Vel_Cs6_V3 = Velocity(mfr_cs6_V3, rho, Acs_cs6V3)\n",
    "f_Cs6_V3 = ffactor(dP_cs6_V3, dh_cs6_V3, Lf, rho, Vel_Cs6_V3)\n",
    "\n",
    "Cs8 = pd.read_excel('V3inv2.xlsx', sheet_name= 'cs8')\n",
    "mfr_cs8_V3 = Cs8.iloc[:,9].values\n",
    "dP_cs8_V3 = Cs8.iloc[:,7].values * 100000\n",
    "dh_cs8_V3 = [Dh_cs8V3] * len(dP_cs8_V3)\n",
    "Re_Cs8_V3 = Reynolds2(mfr_cs8_V3, dh_cs8_V3, Acs_cs8V3, mu)\n",
    "Vel_Cs8_V3 = Velocity(mfr_cs8_V3, rho, Acs_cs8V3)\n",
    "f_Cs8_V3 = ffactor(dP_cs8_V3, dh_cs8_V3, Lf, rho, Vel_Cs8_V3)\n",
    "\n",
    "Cs10 = pd.read_excel('V3inv2.xlsx', sheet_name= 'cs10')\n",
    "mfr_cs10_V3 = Cs10.iloc[:,9].values\n",
    "dP_cs10_V3 = Cs10.iloc[:,7].values * 100000\n",
    "dh_cs10_V3 = [Dh_cs10V3] * len(dP_cs10_V3)\n",
    "Re_Cs10_V3 = Reynolds2(mfr_cs10_V3, dh_cs10_V3, Acs_cs10V3, mu)\n",
    "Vel_Cs10_V3 = Velocity(mfr_cs10_V3, rho, Acs_cs10V3)\n",
    "f_Cs10_V3 = ffactor(dP_cs10_V3, dh_cs10_V3, Lf, rho, Vel_Cs10_V3)\n",
    "\n",
    "Cs12 = pd.read_excel('V3inv2.xlsx', sheet_name= 'cs12')\n",
    "mfr_cs12_V3 = Cs12.iloc[:,9].values\n",
    "dP_cs12_V3 = Cs12.iloc[:,7].values * 100000\n",
    "dh_cs12_V3 = [Dh_cs12V3] * len(dP_cs12_V3)\n",
    "Re_Cs12_V3 = Reynolds2(mfr_cs12_V3, dh_cs12_V3, Acs_cs12V3, mu)\n",
    "Vel_Cs12_V3 = Velocity(mfr_cs12_V3, rho, Acs_cs12V3)\n",
    "f_Cs12_V3 = ffactor(dP_cs12_V3, dh_cs12_V3, Lf, rho, Vel_Cs12_V3)\n",
    "\n",
    "Cs15 = pd.read_excel('V3inv2.xlsx', sheet_name= 'cs15')\n",
    "mfr_cs15_V3 = Cs15.iloc[:,9].values\n",
    "dP_cs15_V3 = Cs15.iloc[:,7].values * 100000\n",
    "dh_cs15_V3 = [Dh_cs15V3] * len(dP_cs15_V3)\n",
    "Re_Cs15_V3 = Reynolds2(mfr_cs15_V3, dh_cs15_V3, Acs_cs15V3, mu)\n",
    "Vel_Cs15_V3 = Velocity(mfr_cs15_V3, rho, Acs_cs15V3)\n",
    "f_Cs15_V3 = ffactor(dP_cs15_V3, dh_cs15_V3, Lf, rho, Vel_Cs15_V3)\n",
    "\n",
    "def Traces(x, y, name, color, symbol): #symbol = circle, square, diamond, cross, triangle-up, pentaon, hexagon, star\n",
    "    trace = go.Scatter(\n",
    "        x=x,\n",
    "        y=y,\n",
    "        name=name,\n",
    "        mode='markers',\n",
    "        marker=dict(\n",
    "            size=15,\n",
    "            color=color,\n",
    "            symbol=symbol,  # Forma do marcador\n",
    "            line=dict(\n",
    "                width=2,\n",
    "                color='Black'  # Cor da borda do marcador\n",
    "            )\n",
    "        )\n",
    "    )\n",
    "    return trace\n",
    "\n",
    "\n",
    "\n",
    "def curves(trace, title, ytitle):\n",
    "\n",
    "    fig = go.Figure(data = trace)\n",
    "\n",
    "    fig.update_layout(\n",
    "    font=dict(\n",
    "    size=15),\n",
    "    title={\n",
    "        'text': title,\n",
    "        'x': 0.5,\n",
    "        'xanchor': 'center'\n",
    "    },\n",
    "    xaxis={\n",
    "        'title': 'Reynolds',\n",
    "        'showline': True,\n",
    "        'showgrid': False,\n",
    "        'zeroline': True,\n",
    "        'zerolinecolor': 'black',\n",
    "        'linecolor': 'black',\n",
    "        'ticks': 'outside',\n",
    "        'mirror': True\n",
    "    },\n",
    "    yaxis={\n",
    "        'title': ytitle,\n",
    "        'showline': True,\n",
    "        'showgrid': False,\n",
    "        'zeroline': True,\n",
    "        'zerolinecolor': 'black',\n",
    "        'linecolor': 'black',\n",
    "        'ticks': 'outside',\n",
    "        'mirror': True\n",
    "    },\n",
    "    plot_bgcolor='white',\n",
    "    hovermode='closest',\n",
    "    width=800,  # Largura do gráfico\n",
    "    height=600  # Altura do gráfico\n",
    ")\n",
    "    \n",
    "    pyo.plot(fig)\n",
    "\n",
    "    #a = Traces(Re_cs4_V3, abs_cs4V3, 'dp_cs4V3', 'red', 'circle')"
   ]
  },
  {
   "cell_type": "code",
   "execution_count": 8,
   "metadata": {},
   "outputs": [
    {
     "name": "stdout",
     "output_type": "stream",
     "text": [
      "0.00015106666666666666\n"
     ]
    }
   ],
   "source": [
    "print(Acs_cs6V3)"
   ]
  },
  {
   "cell_type": "code",
   "execution_count": 13,
   "metadata": {},
   "outputs": [],
   "source": [
    "ANNDF = []\n",
    "stpcs4 = [0.2495] * len(Vel_Cs4_V3)\n",
    "stpcs6 = [0.3326] * len(Vel_Cs6_V3)\n",
    "stpcs8 = [0.3745] * len(Vel_Cs8_V3)\n",
    "stpcs10 = [0.3996] * len(Vel_Cs10_V3)\n",
    "stpcs12 = [0.4162] * len(Vel_Cs12_V3)\n",
    "stpcs15 = [0.4331] * len(Vel_Cs15_V3)\n",
    "\n",
    "\n",
    "\n",
    "#Adicione os dados de cada conjunto no formato DataFrame\n",
    "ANNDF.append(pd.DataFrame({'Re': Re_Cs4_V3, 'dP': dP_cs4_V3, 'stp': stpcs4}))\n",
    "ANNDF.append(pd.DataFrame({'Re': Re_Cs6_V3, 'dP': dP_cs6_V3, 'stp': stpcs6}))\n",
    "ANNDF.append(pd.DataFrame({'Re': Re_Cs8_V3, 'dP': dP_cs8_V3, 'stp': stpcs8}))\n",
    "ANNDF.append(pd.DataFrame({'Re': Re_Cs10_V3, 'dP': dP_cs10_V3, 'stp': stpcs10}))\n",
    "ANNDF.append(pd.DataFrame({'Re': Re_Cs12_V3, 'dP': dP_cs12_V3, 'stp': stpcs12}))\n",
    "ANNDF.append(pd.DataFrame({'Re': Re_Cs15_V3, 'dP': dP_cs15_V3, 'stp': stpcs15}))"
   ]
  },
  {
   "cell_type": "code",
   "execution_count": 15,
   "metadata": {},
   "outputs": [
    {
     "name": "stdout",
     "output_type": "stream",
     "text": [
      "[0.1768  0.17426 0.17165 0.1696  0.16603 0.16265 0.15956 0.15626 0.15326\n",
      " 0.15071 0.14886 0.14461 0.14099 0.13748 0.13525 0.13171 0.12994 0.12637\n",
      " 0.12369 0.12123 0.11841 0.11397 0.11138 0.10859 0.10421 0.10164 0.09951\n",
      " 0.09649 0.09295 0.09019 0.08722 0.08574 0.08286 0.07898 0.07623 0.07251\n",
      " 0.06974 0.06771 0.06503 0.06317 0.05954 0.05677 0.05387 0.05011 0.04644\n",
      " 0.04438 0.04206 0.03966]\n"
     ]
    }
   ],
   "source": [
    "print(mfr_cs8_V3)"
   ]
  },
  {
   "cell_type": "code",
   "execution_count": 14,
   "metadata": {},
   "outputs": [],
   "source": [
    "trace1 = Traces(x = mfr_cs8_V3, y = dP_cs8_V3, name='dP x Re Cs8 V3', color='green', symbol='circle')\n",
    "curves(trace=trace1, title = 'dP x Re', ytitle= 'dP')"
   ]
  },
  {
   "cell_type": "code",
   "execution_count": 3,
   "metadata": {},
   "outputs": [
    {
     "data": {
      "text/plain": [
       "'temp-plot.html'"
      ]
     },
     "execution_count": 3,
     "metadata": {},
     "output_type": "execute_result"
    }
   ],
   "source": [
    "import pandas as pd\n",
    "import numpy as np\n",
    "import plotly.graph_objs as go\n",
    "import plotly.offline as pyo \n",
    "import plotly.io\n",
    "\n",
    "Recs4 = np.linspace(500, 5000, len(Vel_Cs4_V3))\n",
    "Recs6 = np.linspace(500, 4000, len(Vel_Cs6_V3))\n",
    "Recs8 = np.linspace(500, 5000, len(Vel_Cs8_V3))\n",
    "Recs10 = np.linspace(500, 5000, len(Vel_Cs10_V3))\n",
    "Recs12 = np.linspace(500, 5000, len(Vel_Cs12_V3))\n",
    "Recs15 = np.linspace(500, 5000, len(Vel_Cs15_V3))\n",
    "\n",
    "dpcs4 = -4E-07*(Recs4**3) + 0.0196*(Recs4**2) + 4.2422*(Recs4) - 2450.9\n",
    "dpcs6 = -2E-07*(Recs6**3) + 0.004*(Recs6**2) - 0.9748*(Recs6) + 345.44\n",
    "dpcs8 = -1E-08*(Recs8**3) + 0.0011*(Recs8**2) + 0.5756*(Recs8) - 648.46\n",
    "dpcs10 = 2E-09*(Recs10**3) + 0.0006*(Recs10**2) + 0.4066*(Recs10) - 399.73\n",
    "dpcs12 = 3E-09*(Recs12**3) + 0.0003*(Recs12**2) + 0.5031*(Recs12) - 495.56\n",
    "dpcs15 = 1E-08*(Recs15**3) - 1E-05*(Recs15**2) + 0.9952*(Recs15) - 1296.1\n",
    "\n",
    "fcs4 = ffactor(dpcs4, dh_cs4_V3, Lf, rho, Vel_Cs4_V3)\n",
    "fcs6 = ffactor(dpcs6, dh_cs6_V3, Lf, rho, Vel_Cs6_V3)\n",
    "fcs8 = ffactor(dpcs8, dh_cs8_V3, Lf, rho, Vel_Cs8_V3)\n",
    "fcs10 = ffactor(dpcs10, dh_cs10_V3, Lf, rho, Vel_Cs10_V3)\n",
    "fcs12 = ffactor(dpcs12, dh_cs12_V3, Lf, rho, Vel_Cs12_V3)\n",
    "fcs15 = ffactor(dpcs15, dh_cs15_V3, Lf, rho, Vel_Cs15_V3)\n",
    "\n",
    "\n",
    "trace1 = Traces(x = Recs6, y= fcs6, name = 'a', color= 'green', symbol='circle')\n",
    "fig = go.Figure(data = trace1)\n",
    "pyo.plot(fig)"
   ]
  },
  {
   "cell_type": "code",
   "execution_count": 7,
   "metadata": {},
   "outputs": [
    {
     "name": "stdout",
     "output_type": "stream",
     "text": [
      "[0.16719 0.16551 0.1629  0.15868 0.15675 0.15275 0.15016 0.14739 0.14459\n",
      " 0.14086 0.13842 0.13478 0.13357 0.12977 0.12728 0.12534 0.12176 0.11818\n",
      " 0.11541 0.11366 0.10997 0.10696 0.10332 0.10038 0.09791 0.09569 0.09314\n",
      " 0.09018 0.08838 0.08497 0.08108 0.0787  0.07637 0.07389 0.07037 0.06702\n",
      " 0.06481 0.06193 0.05949 0.0563  0.05374 0.05033 0.04828 0.04531 0.04288\n",
      " 0.03945]\n"
     ]
    }
   ],
   "source": [
    "print(mfr_cs6_V3)"
   ]
  },
  {
   "cell_type": "code",
   "execution_count": 5,
   "metadata": {},
   "outputs": [
    {
     "name": "stdout",
     "output_type": "stream",
     "text": [
      "Arquivo Excel 'ANNDF_data_combined.xlsx' criado com sucesso!\n"
     ]
    }
   ],
   "source": [
    "import pandas as pd\n",
    "\n",
    "# Combine todos os DataFrames em um único DataFrame\n",
    "combined_df = pd.concat(ANNDF, ignore_index=True)\n",
    "\n",
    "# Salve o DataFrame combinado em um arquivo Excel\n",
    "combined_df.to_excel('ANNDF_data_combined.xlsx', index=False)\n",
    "\n",
    "print(\"Arquivo Excel 'ANNDF_data_combined.xlsx' criado com sucesso!\")"
   ]
  }
 ],
 "metadata": {
  "kernelspec": {
   "display_name": "base",
   "language": "python",
   "name": "python3"
  },
  "language_info": {
   "codemirror_mode": {
    "name": "ipython",
    "version": 3
   },
   "file_extension": ".py",
   "mimetype": "text/x-python",
   "name": "python",
   "nbconvert_exporter": "python",
   "pygments_lexer": "ipython3",
   "version": "3.11.7"
  }
 },
 "nbformat": 4,
 "nbformat_minor": 2
}
