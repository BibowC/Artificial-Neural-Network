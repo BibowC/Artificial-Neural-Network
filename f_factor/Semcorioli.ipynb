{
 "cells": [
  {
   "cell_type": "code",
   "execution_count": 46,
   "metadata": {},
   "outputs": [],
   "source": [
    "import pandas as pd\n",
    "import numpy as np\n",
    "import plotly.graph_objs as go\n",
    "import plotly.offline as pyo \n",
    "import CoolProp.CoolProp as CP\n",
    "from scipy.stats import linregress\n",
    "\n",
    "# CS5_T1 VALUES\n",
    "Lf = 50/1000 # mm Length of the core\n",
    "Vf_cs5 = 6619.3183 * 1e-9 #m³  Volume of the fluid in core\n",
    "Afs_cs5 = 12365.444 * 1e-6 #m² Interfacial surface area between fluid/wall\n",
    "Acs_cs5 = Vf_cs5 / Lf\n",
    "Dh_cs5 = (4*Vf_cs5)/Afs_cs5\n",
    "\n",
    "#CS7.5_T1 VALUES\n",
    "Lf = 50/1000 # mm Length of the core\n",
    "Vf_cs7_5 = 8012.6469 * 1e-9 #m³  Volume of the fluid in core\n",
    "Afs_cs7_5 = 9101.2586 * 1e-6 #m² Interfacial surface area between fluid/wall\n",
    "Acs_cs7_5 = Vf_cs7_5 / Lf\n",
    "Dh_cs7_5 = (4*Vf_cs7_5)/Afs_cs7_5\n",
    "\n",
    "#CS10_T1 VALUES\n",
    "Lf = 50/1000 # m Length of the core\n",
    "Vf_cs10 = 8694.9198 * 1e-9 #m³  Volume of the fluid in core\n",
    "Afs_cs10 = 7726.8569 * 1e-6 #m² Interfacial surface area between fluid/wall\n",
    "Acs_cs10 = Vf_cs10 / Lf\n",
    "Dh_cs10 = (4*Vf_cs10)/Afs_cs10\n",
    "\n",
    "# DEFINING REYNOLDS AND VELOCITY\n",
    "T = 300\n",
    "mu = CP.PropsSI('V', 'T', T, 'P', 101325, 'Water')\n",
    "rho = CP.PropsSI('D', 'T', 300, 'P', 101325, 'Water')\n",
    "\n",
    "\n",
    "def Reynolds(mfr, dh, acs, mu):\n",
    "    Re = (mfr * dh) / (acs * mu)\n",
    "    return Re \n",
    "\n",
    "def Reynolds(rho, v, dh, mu):\n",
    "    Re = (rho * v * dh) / (mu)\n",
    "    return Re \n",
    "\n",
    "def Velocity(mfr, rho, acs):\n",
    "    Vel = (mfr) / (rho * acs)\n",
    "    return Vel\n",
    "\n",
    "def ffactor(dp, dh, L, rho, V):\n",
    "    f = (dp * dh) / (2*L*rho*(np.power(V,2)))\n",
    "    return f\n",
    "\n"
   ]
  },
  {
   "cell_type": "code",
   "execution_count": 47,
   "metadata": {},
   "outputs": [],
   "source": [
    "col = [9, 8, 10]\n",
    "\n",
    "df_cs10 = []\n",
    "\n",
    "for freq in range(25, 55, 5):\n",
    "    sheetname = f'cs10_t1_coriolisSB_{freq}Hz'\n",
    "    df = pd.read_excel('cs10_t1_coriolisSB.xlsx', sheetname)\n",
    "    df = df.iloc[:, col].values\n",
    "    df_cs10.append(df)\n",
    "\n",
    "mfr_cs10 = []\n",
    "dp_cs10 = []\n",
    "abs_cs10 = []\n",
    "\n",
    "for df in df_cs10:\n",
    "    massflowrate_cs10 = df[:, 0]\n",
    "    differencial_cs10 = df[:, 1] * 1e5\n",
    "    absolute_cs10 = df[:, 2]\n",
    "    lastmfr_cs10 = massflowrate_cs10[-100:]\n",
    "    lastdp_cs10 = differencial_cs10[-100:]\n",
    "    lastabs_cs10 = absolute_cs10[-100:]        \n",
    "    \n",
    "    meanmfr_cs10 = lastmfr_cs10.mean()\n",
    "    meandp_cs10 = lastdp_cs10.mean()\n",
    "    meanabs_cs10 = lastabs_cs10.mean() \n",
    "\n",
    "    mfr_cs10.append(meanmfr_cs10)\n",
    "    dp_cs10.append(meandp_cs10)\n",
    "    abs_cs10.append(meanabs_cs10)\n",
    "\n",
    "#Reynolds and velocity values \n",
    "\n",
    "mfr_cs10 = np.array(mfr_cs10)\n",
    "\n",
    "\n",
    "\n",
    "\n",
    "V_cs10 = np.array(Velocity(mfr_cs10, rho, Acs_cs10))\n",
    "Re_cs10_t1 = Reynolds(1000, V_cs10, Dh_cs10, mu)\n"
   ]
  },
  {
   "cell_type": "code",
   "execution_count": 48,
   "metadata": {},
   "outputs": [
    {
     "name": "stdout",
     "output_type": "stream",
     "text": [
      "[11640.47, 17477.91, 24253.63, 32074.14, 41986.42, 52547.85]\n"
     ]
    }
   ],
   "source": [
    "print(dp_cs10)"
   ]
  },
  {
   "cell_type": "code",
   "execution_count": 49,
   "metadata": {},
   "outputs": [
    {
     "data": {
      "text/plain": [
       "'temp-plot.html'"
      ]
     },
     "execution_count": 49,
     "metadata": {},
     "output_type": "execute_result"
    }
   ],
   "source": [
    "# PLOTS DP x MASS FLOW RATE\n",
    "\n",
    "trace1 = go.Scatter(\n",
    "\n",
    "    x=mfr_cs10,\n",
    "    y=dp_cs10,\n",
    "    name = 'cs10_t1',\n",
    "    mode='markers',\n",
    "    marker=dict(\n",
    "        size=12,\n",
    "        color='Red'\n",
    "    )\n",
    ")\n",
    "\n",
    "layout = go.Layout(title = 'Pressure Drop x Mass Flow Rate',\n",
    "                   xaxis = {'title': 'Mass Flow Rate (kg/s)'},\n",
    "                   yaxis = {'title': 'Pressure Drop (Bar)'},\n",
    "                   hovermode = 'closest')\n",
    "data = [trace1]\n",
    "\n",
    "fig = go.Figure(data = data, layout = layout)\n",
    "pyo.plot(fig)"
   ]
  },
  {
   "cell_type": "code",
   "execution_count": 50,
   "metadata": {},
   "outputs": [
    {
     "name": "stdout",
     "output_type": "stream",
     "text": [
      "[1883.09672387 2339.86960609 2801.99688795 3273.86552646 3774.25851222\n",
      " 4279.0110745 ]\n"
     ]
    }
   ],
   "source": [
    "print(Re_cs10_t1)"
   ]
  },
  {
   "cell_type": "code",
   "execution_count": 51,
   "metadata": {},
   "outputs": [
    {
     "data": {
      "text/plain": [
       "'temp-plot.html'"
      ]
     },
     "execution_count": 51,
     "metadata": {},
     "output_type": "execute_result"
    }
   ],
   "source": [
    "# PLOTS DP x REYNOLDS\n",
    "\n",
    "trace1 = go.Scatter(\n",
    "\n",
    "    x=Re_cs10_t1,\n",
    "    y=dp_cs10,\n",
    "    name = 'cs10_t1',\n",
    "    mode='markers',\n",
    "    marker=dict(\n",
    "        size=12,\n",
    "        color='Red'\n",
    "    )\n",
    ")\n",
    "\n",
    "layout = go.Layout(title = 'Pressure Drop x Mass Flow Rate',\n",
    "                   xaxis = {'title': 'Reynolds'},\n",
    "                   yaxis = {'title': 'Pressure Drop (Bar)'},\n",
    "                   hovermode = 'closest')\n",
    "data = [trace1]\n",
    "\n",
    "fig = go.Figure(data = data, layout = layout)\n",
    "pyo.plot(fig)"
   ]
  },
  {
   "cell_type": "code",
   "execution_count": 52,
   "metadata": {},
   "outputs": [
    {
     "data": {
      "text/plain": [
       "'temp-plot.html'"
      ]
     },
     "execution_count": 52,
     "metadata": {},
     "output_type": "execute_result"
    }
   ],
   "source": [
    "\n",
    "f_cs10 = ffactor(np.array(dp_cs10), Dh_cs10, Lf, rho, V_cs10)\n",
    "\n",
    "\n",
    "trace1 = go.Scatter(\n",
    "    x=Re_cs10_t1,\n",
    "    y=f_cs10,\n",
    "    name = 'cs5_t1',\n",
    "    mode='markers',\n",
    "    marker=dict(\n",
    "        size=12,\n",
    "        color='Red'\n",
    "    )\n",
    ")\n",
    "\n",
    "layout = go.Layout(title = 'f x Reynolds',\n",
    "                   xaxis = {'title': 'Reynolds'},\n",
    "                   yaxis = {'title': 'f'},\n",
    "                   hovermode = 'closest')\n",
    "data = [trace1]\n",
    "\n",
    "fig = go.Figure(data = data, layout = layout)\n",
    "pyo.plot(fig)"
   ]
  }
 ],
 "metadata": {
  "kernelspec": {
   "display_name": "base",
   "language": "python",
   "name": "python3"
  },
  "language_info": {
   "codemirror_mode": {
    "name": "ipython",
    "version": 3
   },
   "file_extension": ".py",
   "mimetype": "text/x-python",
   "name": "python",
   "nbconvert_exporter": "python",
   "pygments_lexer": "ipython3",
   "version": "3.11.7"
  }
 },
 "nbformat": 4,
 "nbformat_minor": 2
}
