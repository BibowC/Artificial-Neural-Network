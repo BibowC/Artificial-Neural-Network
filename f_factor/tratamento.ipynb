{
 "cells": [
  {
   "cell_type": "code",
   "execution_count": 2,
   "metadata": {},
   "outputs": [],
   "source": [
    "import pandas as pd\n",
    "import numpy as np\n",
    "import plotly.graph_objs as go\n",
    "import plotly.offline as pyo \n",
    "\n"
   ]
  },
  {
   "cell_type": "code",
   "execution_count": 22,
   "metadata": {},
   "outputs": [],
   "source": [
    "#tratamento da cs5_t1 de 15 a 60hz\n",
    "\n",
    "Lf = 50/1000 # mm Length of the core\n",
    "Vf_cs5 = 6619.3183 #mm³  Volume of the fluid in core\n",
    "Afs_cs5 = 12365.444 #mm² Interfacial surface area between fluid/wall\n",
    "Acs_cs5 = Vf_cs5 / Lf\n",
    "Dh_cs5 = (4*Vf_cs5)/Afs_cs5\n",
    "\n",
    "col = [5, 8, 10]\n",
    "\n",
    "df_cs5 = []\n",
    "\n",
    "for freq in range(15, 65, 5):\n",
    "    sheetname = f'5x5x1_W_{freq}Hz'\n",
    "    df = pd.read_excel('5x5x1_W_Resina.xlsx', sheetname)\n",
    "    df = df.iloc[:, col]\n",
    "    df_cs5.append(df)\n"
   ]
  },
  {
   "cell_type": "code",
   "execution_count": 23,
   "metadata": {},
   "outputs": [],
   "source": [
    "#tratamento da cs7.5_t1 de 15 a 60hz\n",
    "\n",
    "Lf = 50/1000 # mm Length of the core\n",
    "Vf_cs7_5 = 6619.3183 #mm³  Volume of the fluid in core\n",
    "Afs_cs7_5 = 12365.444 #mm² Interfacial surface area between fluid/wall\n",
    "Acs_cs7_5 = Vf_cs7_5 / Lf\n",
    "Dh_cs7_5 = (4*Vf_cs7_5)/Afs_cs7_5\n",
    "\n",
    "col = [5, 8, 10]\n",
    "\n",
    "df_cs7_5 = []\n",
    "\n",
    "for freq in range(15, 65, 5):\n",
    "    sheetname = f'7.5x7.5x1_W_{freq}Hz'\n",
    "    df = pd.read_excel('7.5x7.5x1_W_Resina.xlsx', sheetname)\n",
    "    df = df.iloc[:, col]\n",
    "    df_cs7_5.append(df)\n"
   ]
  },
  {
   "cell_type": "code",
   "execution_count": 24,
   "metadata": {},
   "outputs": [],
   "source": [
    "#tratamento da cs10_t1 de 15 a 60hz\n",
    "\n",
    "Lf = 50/1000 # mm Length of the core\n",
    "Vf_cs10 = 6619.3183 #mm³  Volume of the fluid in core\n",
    "Afs_cs10 = 12365.444 #mm² Interfacial surface area between fluid/wall\n",
    "Acs_cs10 = Vf_cs10 / Lf\n",
    "Dh_cs10 = (4*Vf_cs10)/Afs_cs10\n",
    "\n",
    "col = [5, 8, 10]\n",
    "\n",
    "df_cs10 = []\n",
    "\n",
    "for freq in range(15, 65, 5):\n",
    "    sheetname = f'10x10x1_W_{freq}Hz'\n",
    "    df = pd.read_excel('10x10x1_W_Resina.xlsx', sheetname)\n",
    "    df = df.iloc[:, col]\n",
    "    df_cs10.append(df)\n"
   ]
  }
 ],
 "metadata": {
  "kernelspec": {
   "display_name": "base",
   "language": "python",
   "name": "python3"
  },
  "language_info": {
   "codemirror_mode": {
    "name": "ipython",
    "version": 3
   },
   "file_extension": ".py",
   "mimetype": "text/x-python",
   "name": "python",
   "nbconvert_exporter": "python",
   "pygments_lexer": "ipython3",
   "version": "3.11.7"
  }
 },
 "nbformat": 4,
 "nbformat_minor": 2
}
