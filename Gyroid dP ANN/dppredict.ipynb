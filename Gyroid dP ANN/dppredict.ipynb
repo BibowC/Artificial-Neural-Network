{
 "cells": [
  {
   "cell_type": "code",
   "execution_count": 1,
   "metadata": {},
   "outputs": [],
   "source": [
    "#dP x mfr curves for different cs\n",
    "import pandas as pd\n",
    "import numpy as np \n",
    "import plotly.graph_objs as go\n",
    "import plotly.offline as pyo\n",
    "\n",
    "dpdf = pd.read_excel('DoE.xlsx')"
   ]
  },
  {
   "cell_type": "code",
   "execution_count": 6,
   "metadata": {},
   "outputs": [
    {
     "data": {
      "text/plain": [
       "'temp-plot.html'"
      ]
     },
     "execution_count": 6,
     "metadata": {},
     "output_type": "execute_result"
    }
   ],
   "source": [
    "\n",
    "trace1 = go.Scatter(x = dpdf.iloc[:, 1].dropna(),\n",
    "                   y = dpdf.iloc[:, 0].dropna(), \n",
    "                   mode = 'markers',\n",
    "                   marker = dict( size = 12,\n",
    "                                 color = 'red'),\n",
    "                                 name = 'DoE_cs10_t1_0.01'\n",
    "                   )\n",
    "\n",
    "trace2 = go.Scatter(x = dpdf.iloc[:, 4].dropna(),\n",
    "                   y = dpdf.iloc[:, 3].dropna(), \n",
    "                   mode = 'markers',\n",
    "                   marker = dict( size = 12,\n",
    "                                 color = 'blue'),\n",
    "                                 name = 'DoE_cs10_t1_0.015'\n",
    "                   )\n",
    "\n",
    "trace3 = go.Scatter(x = dpdf.iloc[:, 7].dropna(),\n",
    "                   y = dpdf.iloc[:, 6].dropna(), \n",
    "                   mode = 'markers',\n",
    "                   marker = dict( size = 12,\n",
    "                                 color = 'green'),\n",
    "                                 name = 'DoE_cs10_t1_0.02'\n",
    "                   )\n",
    "\n",
    "trace4 = go.Scatter(x = dpdf.iloc[:, 10].dropna(),\n",
    "                   y = dpdf.iloc[:, 9].dropna(), \n",
    "                   mode = 'markers',\n",
    "                   marker = dict( size = 12,\n",
    "                                 color = 'darkred'),\n",
    "                                 name = 'DoE_cs7.5_t1_0.01'\n",
    "                   )\n",
    "\n",
    "trace5 = go.Scatter(x = dpdf.iloc[:, 13].dropna(),\n",
    "                   y = dpdf.iloc[:, 12].dropna(), \n",
    "                   mode = 'markers',\n",
    "                   marker = dict( size = 12,\n",
    "                                 color = 'darkblue'),\n",
    "                                 name = 'DoE_cs7.5_t1_0.015'\n",
    "                   )\n",
    "\n",
    "trace6 = go.Scatter(x = dpdf.iloc[:, 16].dropna(),\n",
    "                   y = dpdf.iloc[:, 15].dropna(), \n",
    "                   mode = 'markers',\n",
    "                   marker = dict( size = 12,\n",
    "                                 color = 'darkgreen'),\n",
    "                                 name = 'DoE_cs7.5_t1_0.02'\n",
    "                   )\n",
    "\n",
    "trace7 = go.Scatter(x = dpdf.iloc[:, 19].dropna(),\n",
    "                   y = dpdf.iloc[:, 18].dropna(), \n",
    "                   mode = 'markers',\n",
    "                   marker = dict( size = 12,\n",
    "                                 color = 'orange'),\n",
    "                                 name = 'DoE_cs5_t1_0.01'\n",
    "                   )\n",
    "\n",
    "trace8 = go.Scatter(x = dpdf.iloc[:, 22].dropna(),\n",
    "                   y = dpdf.iloc[:, 21].dropna(), \n",
    "                   mode = 'markers',\n",
    "                   marker = dict( size = 12,\n",
    "                                 color = 'cyan'),\n",
    "                                 name = 'DoE_cs5_t1_0.015'\n",
    "                   )\n",
    "\n",
    "trace9 = go.Scatter(x = dpdf.iloc[:, 25].dropna(),\n",
    "                   y = dpdf.iloc[:, 24].dropna(), \n",
    "                   mode = 'markers',\n",
    "                   marker = dict( size = 12,\n",
    "                                 color = 'lightgreen'),\n",
    "                                 name = 'DoE_cs5_t1_0.02'\n",
    "                   )\n",
    "\n",
    "\n",
    "\n",
    "data = [trace1, trace2, trace3, trace4, trace5, trace6, trace7, trace8, trace9]\n",
    "\n",
    "\n"
   ]
  },
  {
   "cell_type": "code",
   "execution_count": 19,
   "metadata": {},
   "outputs": [
    {
     "data": {
      "text/plain": [
       "'temp-plot.html'"
      ]
     },
     "execution_count": 19,
     "metadata": {},
     "output_type": "execute_result"
    }
   ],
   "source": [
    "colors = ['red', 'blue', 'green', 'darkred', 'darkblue', 'darkgreen', 'orange', 'cyan', 'lightgreen']\n",
    "\n",
    "def trace(dp, mfr, csize, color):\n",
    "    cs = dpdf.iloc[3,csize]\n",
    "    trace = go.Scatter(x = dpdf.iloc[:, mfr].dropna(),\n",
    "                   y = dpdf.iloc[:, dp].dropna(), \n",
    "                   mode = 'markers',\n",
    "                   marker = dict( size = 12,\n",
    "                                 color = color),\n",
    "                                 name = 'DoE_cs{csize}_t1_'\n",
    "                   )\n",
    "    return trace\n",
    "\n",
    "data = []\n",
    "\n",
    "for i, (dp, mfr, csize) in enumerate(zip(range(0, 25, 3), range(1, 26, 3), range(2, 27, 3))):\n",
    "    color = colors[i % len(colors)]  \n",
    "    data.append(trace(dp, mfr, csize, color))\n",
    "\n",
    "layout = go.Layout(\n",
    "    title='DoE_cs10_t1 dP x Mass Flow',\n",
    "    xaxis={'title': 'Mass Flow Rate [kg/s]'},\n",
    "    yaxis={'title': 'dP (Bar)'})\n",
    "\n",
    "fig = go.Figure(data = data, layout=layout)\n",
    "pyo.plot(fig)"
   ]
  },
  {
   "cell_type": "code",
   "execution_count": null,
   "metadata": {},
   "outputs": [],
   "source": [
    "\n"
   ]
  }
 ],
 "metadata": {
  "kernelspec": {
   "display_name": "base",
   "language": "python",
   "name": "python3"
  },
  "language_info": {
   "codemirror_mode": {
    "name": "ipython",
    "version": 3
   },
   "file_extension": ".py",
   "mimetype": "text/x-python",
   "name": "python",
   "nbconvert_exporter": "python",
   "pygments_lexer": "ipython3",
   "version": "3.11.7"
  }
 },
 "nbformat": 4,
 "nbformat_minor": 2
}
